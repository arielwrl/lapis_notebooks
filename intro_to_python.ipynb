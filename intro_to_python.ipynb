{
 "cells": [
  {
   "cell_type": "markdown",
   "metadata": {
    "colab_type": "text",
    "id": "KfibWY-foBMD"
   },
   "source": [
    "# Handling data with python"
   ]
  },
  {
   "cell_type": "markdown",
   "metadata": {
    "colab_type": "text",
    "id": "Hq6RFzzToBMH"
   },
   "source": [
    "## 1. Simple Variables\n",
    "\n",
    "Basic data types:\n",
    "\n",
    "* Integers\n",
    "* Floats\n",
    "* Strings\n",
    "* Boolean"
   ]
  },
  {
   "cell_type": "markdown",
   "metadata": {
    "colab_type": "text",
    "id": "a-nT4zJCq4DX"
   },
   "source": [
    "### 1.1 Numbers"
   ]
  },
  {
   "cell_type": "code",
   "execution_count": null,
   "metadata": {
    "colab": {},
    "colab_type": "code",
    "id": "8aON_KjtoBMJ"
   },
   "outputs": [],
   "source": [
    "one = 1 # As an integer\n",
    "\n",
    "print(one)\n",
    "print('This variable is a', type(one))"
   ]
  },
  {
   "cell_type": "code",
   "execution_count": null,
   "metadata": {
    "colab": {},
    "colab_type": "code",
    "id": "2J3k31_-oBMR",
    "scrolled": true
   },
   "outputs": [],
   "source": [
    "one = 1.0 # As a float\n",
    "\n",
    "print(one)\n",
    "print('This variable is a', type(one))"
   ]
  },
  {
   "cell_type": "markdown",
   "metadata": {
    "colab_type": "text",
    "id": "63EkS5HVoBMX"
   },
   "source": [
    "### 1.2 Strings"
   ]
  },
  {
   "cell_type": "code",
   "execution_count": null,
   "metadata": {
    "colab": {},
    "colab_type": "code",
    "id": "MH-00RLjoBMY"
   },
   "outputs": [],
   "source": [
    "lapis = 'LAPIS'\n",
    "\n",
    "print(lapis)"
   ]
  },
  {
   "cell_type": "code",
   "execution_count": null,
   "metadata": {},
   "outputs": [],
   "source": [
    "# Indexing strings\n",
    "\n",
    "lapis[1]"
   ]
  },
  {
   "cell_type": "code",
   "execution_count": null,
   "metadata": {
    "colab": {},
    "colab_type": "code",
    "id": "n1mAjlV2oBMe"
   },
   "outputs": [],
   "source": [
    "print('[0] =>', 'LAPIS'[0])\n",
    "print('[0:1] =>', 'LAPIS'[0:1])\n",
    "print('[0:2] =>', 'LAPIS'[0:2])\n",
    "print('[-1] =>', 'LAPIS'[-1])"
   ]
  },
  {
   "cell_type": "code",
   "execution_count": null,
   "metadata": {
    "colab": {},
    "colab_type": "code",
    "id": "AXV_W9iJoBMj"
   },
   "outputs": [],
   "source": [
    "# You can use the % operator to format strings\n",
    "\n",
    "print('This is a float with 3 decimals: %0.3f' % 13.7681209)"
   ]
  },
  {
   "cell_type": "code",
   "execution_count": null,
   "metadata": {
    "colab": {},
    "colab_type": "code",
    "id": "Ob6WjfLVoBMp"
   },
   "outputs": [],
   "source": [
    "# You can use unicode characters:\n",
    "\n",
    "print('I %s LAPIS' % '\\u2665')"
   ]
  },
  {
   "cell_type": "code",
   "execution_count": null,
   "metadata": {},
   "outputs": [],
   "source": [
    "# You can see the size of the string\n",
    "len(lapis)"
   ]
  },
  {
   "cell_type": "markdown",
   "metadata": {
    "colab_type": "text",
    "id": "4lbyXMFsoBMv"
   },
   "source": [
    "### 1.3 Booleans"
   ]
  },
  {
   "cell_type": "code",
   "execution_count": null,
   "metadata": {
    "colab": {},
    "colab_type": "code",
    "id": "aoyuNaVjoBMx"
   },
   "outputs": [],
   "source": [
    "# Booleans are results of a logical expression\n",
    "\n",
    "print(type(lapis) == str)\n",
    "print(type(lapis) == float)"
   ]
  },
  {
   "cell_type": "code",
   "execution_count": null,
   "metadata": {
    "colab": {},
    "colab_type": "code",
    "id": "OoIwEk5Ypfrt"
   },
   "outputs": [],
   "source": [
    "# You can also create a boolean variable\n",
    "\n",
    "a_boolean = True\n",
    "\n",
    "print(a_boolean)\n",
    "print(a_boolean is True)\n",
    "print(a_boolean is False)"
   ]
  },
  {
   "cell_type": "markdown",
   "metadata": {
    "colab_type": "text",
    "id": "GIf8hbg8p9XL"
   },
   "source": [
    "### 1.4 Converting between variable types"
   ]
  },
  {
   "cell_type": "code",
   "execution_count": null,
   "metadata": {
    "colab": {},
    "colab_type": "code",
    "id": "wQu5ehiTqG4v"
   },
   "outputs": [],
   "source": [
    "# You can convert between types\n",
    "\n",
    "print(float(a_boolean))\n",
    "print(int(13.67))\n",
    "print(str(a_boolean))"
   ]
  },
  {
   "cell_type": "markdown",
   "metadata": {
    "colab_type": "text",
    "id": "XJqjRKcSqtJF"
   },
   "source": [
    "### 1.5 Operations"
   ]
  },
  {
   "cell_type": "code",
   "execution_count": null,
   "metadata": {
    "colab": {},
    "colab_type": "code",
    "id": "sP4wIsaNq0yW"
   },
   "outputs": [],
   "source": [
    "# Basic math\n",
    "\n",
    "two = one + one\n",
    "zero = one - one\n",
    "two = 2 * one\n",
    "four = 2 ** 2\n",
    "half = 1 / 2\n",
    "\n",
    "print(two, 'is', one, '+', one)\n",
    "print(zero, 'is', one, '-', one)\n",
    "print(two, 'is', 2, '*', one)\n",
    "print(four, 'is', 2, '**', 2)\n",
    "print(half, 'is', one, '/', 2)"
   ]
  },
  {
   "cell_type": "code",
   "execution_count": null,
   "metadata": {
    "colab": {},
    "colab_type": "code",
    "id": "zlG3HmHOqxif"
   },
   "outputs": [],
   "source": [
    "# Boolean operations are amazing\n",
    "\n",
    "# Is the variable one equal to 1?\n",
    "print(one == 1) \n",
    "\n",
    "# The expression reads: one is larger or equal to 1 or one/two>0 and a_boolean is True\n",
    "print((one >= 1) | ((one / two > 0) & (a_boolean == True)))"
   ]
  },
  {
   "cell_type": "code",
   "execution_count": null,
   "metadata": {},
   "outputs": [],
   "source": [
    "# Things are different for strings\n",
    "\n",
    "'A String' + ' Another String'"
   ]
  },
  {
   "cell_type": "markdown",
   "metadata": {
    "colab_type": "text",
    "id": "GK7UWBrLwbKf"
   },
   "source": [
    "## 2. Less simple variables"
   ]
  },
  {
   "cell_type": "markdown",
   "metadata": {
    "colab_type": "text",
    "id": "i39kg2RMyLAk"
   },
   "source": [
    "Python allows you to organize variables in lots of ways. Out of the box, the possibilities are:\n",
    "\n",
    "* Lists\n",
    "* Tuples\n",
    "* Dictionaries"
   ]
  },
  {
   "cell_type": "markdown",
   "metadata": {
    "colab_type": "text",
    "id": "A5Vn6If-2iqP"
   },
   "source": [
    "### 2.1 Lists and tuples"
   ]
  },
  {
   "cell_type": "code",
   "execution_count": null,
   "metadata": {
    "colab": {},
    "colab_type": "code",
    "id": "oaRLMpgFydYq"
   },
   "outputs": [],
   "source": [
    "# The most basic data-types are tuples and lists\n",
    "\n",
    "a_tuple = ('a', 1, 1.0)\n",
    "a_list = ['a', 1, 1.0]\n",
    "\n",
    "print(a_tuple)\n",
    "print(a_list)"
   ]
  },
  {
   "cell_type": "code",
   "execution_count": null,
   "metadata": {
    "colab": {},
    "colab_type": "code",
    "id": "8Iy8kXlxzDKj"
   },
   "outputs": [],
   "source": [
    "# You can have multidimensional tuples and lists, and even lists of tuples and\n",
    "# tuples of lists\n",
    "\n",
    "a_list_of_lists = [[1,0,0],[0,1,0],[0,0,1]]\n",
    "a_list_of_tuples = [(1,0,0),(0,1,0),(0,0,1)]\n",
    "a_tuple_of_lists = ([1,0,0],[0,1,0],[0,0,1])\n",
    "a_tuple_of_tuples = ((1,0,0),(0,1,0),(0,0,1))\n",
    "\n",
    "print(a_list_of_lists)\n",
    "print(a_list_of_tuples)\n",
    "print(a_tuple_of_lists)\n",
    "print(a_tuple_of_tuples)"
   ]
  },
  {
   "cell_type": "code",
   "execution_count": null,
   "metadata": {
    "colab": {},
    "colab_type": "code",
    "id": "1zI5j7OTyI8h"
   },
   "outputs": [],
   "source": [
    "# Operations of lists and tuples are equivalent\n",
    "\n",
    "print('Doubles the tuple:', 2 * a_tuple)\n",
    "print('Doubles the list:', 2 * a_list)\n",
    "print('Concatenates tuples:', a_tuple + (2, 1))\n",
    "print('Concatenates lists:', a_list + [2, 1])"
   ]
  },
  {
   "cell_type": "code",
   "execution_count": null,
   "metadata": {
    "colab": {},
    "colab_type": "code",
    "id": "vTGL6OiR184U"
   },
   "outputs": [],
   "source": [
    "# Indexing lists and tuples is like indexing strings\n",
    "\n",
    "print(a_list[0])\n",
    "print(a_list[0:2])\n",
    "print(a_list[-1])\n",
    "\n",
    "print(a_tuple[0])\n",
    "print(a_tuple[0:2])\n",
    "print(a_tuple[-1])"
   ]
  },
  {
   "cell_type": "code",
   "execution_count": null,
   "metadata": {
    "colab": {},
    "colab_type": "code",
    "id": "E7_RNXCX1nnp"
   },
   "outputs": [],
   "source": [
    "# But what is the difference?\n",
    "# Lists are dynamic and tuples are static\n",
    "\n",
    "# This will work\n",
    "a_list[0] = 'a new element'\n",
    "print(a_list)"
   ]
  },
  {
   "cell_type": "code",
   "execution_count": null,
   "metadata": {
    "colab": {},
    "colab_type": "code",
    "id": "K-b_RkYj12xm"
   },
   "outputs": [],
   "source": [
    "# This will NOT work\n",
    "a_tuple[0] = 'a new element'\n",
    "print(a_list)"
   ]
  },
  {
   "cell_type": "code",
   "execution_count": null,
   "metadata": {},
   "outputs": [],
   "source": [
    "# You can even create an empty list and append things to it as you go:\n",
    "\n",
    "empty_list = []\n",
    "print('This is an empty list:', empty_list)"
   ]
  },
  {
   "cell_type": "code",
   "execution_count": null,
   "metadata": {},
   "outputs": [],
   "source": [
    "empty_list.append('an element')\n",
    "empty_list.append('another element')\n",
    "\n",
    "# Now that the list is not empty anymore we should change its name\n",
    "not_empty = empty_list\n",
    "\n",
    "print('Not empty anymore:', not_empty)"
   ]
  },
  {
   "cell_type": "code",
   "execution_count": null,
   "metadata": {},
   "outputs": [],
   "source": [
    "# You can see the size of the list or tuple just like with strings\n",
    "\n",
    "len(not_empty)"
   ]
  },
  {
   "cell_type": "markdown",
   "metadata": {
    "colab_type": "text",
    "id": "ZZULHL9E2oOl"
   },
   "source": [
    "### 2.2 Dictionaries"
   ]
  },
  {
   "cell_type": "code",
   "execution_count": null,
   "metadata": {
    "colab": {},
    "colab_type": "code",
    "id": "gUiPk3_d2g7K"
   },
   "outputs": [],
   "source": [
    "# Dictionaries let you organize your data in fields with proper names\n",
    "\n",
    "a_dictionary = {'one' : 1.0,\n",
    "                'two' : 2.0,\n",
    "                'heart' : '\\u2665',\n",
    "                'a_list' : ['this', 'is', 'a', 'list']\n",
    "                }\n",
    "\n",
    "# To see what is stored in the dictionary:\n",
    "print(a_dictionary.keys())\n",
    "\n",
    "# To get access to the data:\n",
    "print(a_dictionary['heart'])\n",
    "print(a_dictionary['a_list'])"
   ]
  },
  {
   "cell_type": "markdown",
   "metadata": {
    "colab_type": "text",
    "id": "DaGTq2i_7HIZ"
   },
   "source": [
    "### 2.3 Arrays\n",
    "\n",
    "Arrays are data structures provided by the numpy package, they make computations much faster!"
   ]
  },
  {
   "cell_type": "code",
   "execution_count": null,
   "metadata": {
    "colab_type": "text",
    "id": "2aKDjtsX7KSq"
   },
   "outputs": [],
   "source": [
    "import numpy as np"
   ]
  },
  {
   "cell_type": "code",
   "execution_count": null,
   "metadata": {},
   "outputs": [],
   "source": [
    "# You can create arrays of random data sampling from a probability distribution, which is useful\n",
    "# for examples, let's create this dataset from a gaussian distribution\n",
    "\n",
    "fake_data = np.random.normal(size=100)\n",
    "\n",
    "print(fake_data)"
   ]
  },
  {
   "cell_type": "code",
   "execution_count": null,
   "metadata": {},
   "outputs": [],
   "source": [
    "# The object np.array has a series of methods\n",
    "\n",
    "print('Mean:', fake_data.mean())\n",
    "print('Standard deviation:', fake_data.std())\n",
    "print('Sum', fake_data.sum())\n",
    "print('Maximum:', fake_data.max())\n",
    "print('Index of the maximum value:', fake_data.argmax())\n",
    "print('Minimum:', fake_data.min())\n",
    "print('Index of the minimum value:', fake_data.argmin())"
   ]
  },
  {
   "cell_type": "code",
   "execution_count": null,
   "metadata": {},
   "outputs": [],
   "source": [
    "# Multidimensional data\n",
    "\n",
    "more_fake_data = np.zeros((10, 12)) # A matrix full of zeros\n",
    "more_fake_data"
   ]
  },
  {
   "cell_type": "code",
   "execution_count": null,
   "metadata": {
    "slideshow": {
     "slide_type": "-"
    }
   },
   "outputs": [],
   "source": [
    "more_fake_data[:,-1] = 2 * np.ones(10) # Setting the last column to a vector of twos\n",
    "more_fake_data"
   ]
  },
  {
   "cell_type": "code",
   "execution_count": null,
   "metadata": {},
   "outputs": [],
   "source": [
    "more_fake_data[0, 0] = np.pi # Setting first element to pi\n",
    "more_fake_data"
   ]
  },
  {
   "cell_type": "code",
   "execution_count": null,
   "metadata": {},
   "outputs": [],
   "source": [
    "# Lots of nice tricks\n",
    "\n",
    "print('The data has shape', more_fake_data.shape)\n",
    "print('Sum:', more_fake_data.sum())\n",
    "print('Sum over x direction:', more_fake_data.sum(axis=1))\n",
    "print('Sum over y direction:', more_fake_data.sum(axis=0))\n",
    "print('Square roots: \\n', np.sqrt(more_fake_data))\n",
    "print('Integrals:', np.trapz(more_fake_data, dx=1))"
   ]
  },
  {
   "cell_type": "code",
   "execution_count": null,
   "metadata": {},
   "outputs": [],
   "source": [
    "# More useful things from numpy\n",
    "array_from_a_list = np.array(a_list_of_lists)\n",
    "print('Array from a list:\\n', array_from_a_list)"
   ]
  },
  {
   "cell_type": "code",
   "execution_count": null,
   "metadata": {},
   "outputs": [],
   "source": [
    "# Other statistics:\n",
    "print('Median:', np.median(fake_data))\n",
    "print('Percentile:', np.percentile(fake_data, 25))"
   ]
  },
  {
   "cell_type": "code",
   "execution_count": null,
   "metadata": {},
   "outputs": [],
   "source": [
    "# Arange let's you create series of numbers spaced according to a certain step\n",
    "aranged_data = np.arange(0, 100, 10)\n",
    "print(aranged_data)"
   ]
  },
  {
   "cell_type": "code",
   "execution_count": null,
   "metadata": {},
   "outputs": [],
   "source": [
    "# Linspace and logspace let you create series of linearly and logarithmicaly spaced data\n",
    "linear = np.linspace(0, 100)\n",
    "log = np.logspace(0, 100)\n",
    "\n",
    "print(linear)\n",
    "print(log)"
   ]
  },
  {
   "cell_type": "code",
   "execution_count": null,
   "metadata": {},
   "outputs": [],
   "source": [
    "# Tip: you can look up the documentation of any python function or object with a \"?\"\n",
    "np.sum?"
   ]
  },
  {
   "cell_type": "markdown",
   "metadata": {},
   "source": [
    "## 3 Some quick coding lessons"
   ]
  },
  {
   "cell_type": "markdown",
   "metadata": {},
   "source": [
    "### 3.1 For loops"
   ]
  },
  {
   "cell_type": "code",
   "execution_count": null,
   "metadata": {},
   "outputs": [],
   "source": [
    "# Python let's you do for loops over anything:\n",
    "\n",
    "# Keys in a dictionary:\n",
    "for key in a_dictionary.keys():\n",
    "    print(key)"
   ]
  },
  {
   "cell_type": "code",
   "execution_count": null,
   "metadata": {},
   "outputs": [],
   "source": [
    "# Files in a directiory:\n",
    "\n",
    "import os\n",
    "\n",
    "for file in os.listdir('./'):\n",
    "    print(file)"
   ]
  },
  {
   "cell_type": "code",
   "execution_count": null,
   "metadata": {},
   "outputs": [],
   "source": [
    "# And numbers in a range:\n",
    "\n",
    "for i in range(10):\n",
    "    i = i**2 + 1 \n",
    "    print(i)"
   ]
  },
  {
   "cell_type": "code",
   "execution_count": null,
   "metadata": {},
   "outputs": [],
   "source": [
    "# List comprehension is the best thing ever\n",
    "\n",
    "a_cleverly_defined_list = [i**2 + 1 for i in range(10)]\n",
    "print(a_cleverly_defined_list)"
   ]
  },
  {
   "cell_type": "markdown",
   "metadata": {},
   "source": [
    "## Question time!\n",
    "\n",
    "### See if you can get an array where each element is the number of characters on the names of the files in this directory!\n",
    "\n",
    "### Extra: Do you think you can make a dictionary where the keys are the names of files and the contents are the numbers of characters in the name of each file?"
   ]
  },
  {
   "cell_type": "markdown",
   "metadata": {},
   "source": [
    "### 3.2 Defining functions"
   ]
  },
  {
   "cell_type": "code",
   "execution_count": null,
   "metadata": {},
   "outputs": [],
   "source": [
    "# Functions are defined like this:\n",
    "\n",
    "def a_function(a_number):\n",
    "    another_number = a_number**3 + a_number**2\n",
    "    return another_number\n",
    "\n",
    "print(a_function(2))"
   ]
  },
  {
   "cell_type": "markdown",
   "metadata": {},
   "source": [
    "### 3.3 Plotting"
   ]
  },
  {
   "cell_type": "code",
   "execution_count": null,
   "metadata": {},
   "outputs": [],
   "source": [
    "import matplotlib.pyplot as plt\n",
    "\n",
    "# Create random data\n",
    "x = np.random.normal(size=1000)\n",
    "\n",
    "# Plot histogram\n",
    "plt.hist(x)"
   ]
  },
  {
   "cell_type": "code",
   "execution_count": null,
   "metadata": {},
   "outputs": [],
   "source": [
    "# Create a fake correlation (12x + 2 line + noise)\n",
    "y = 12 * (x + np.random.normal(size=1000)) + 2\n",
    "\n",
    "# Plotting\n",
    "plt.plot(x, y, '.', label='Data')\n",
    "plt.plot(x, 12 * x + 2, label=r'$y=12x+2$')\n",
    "\n",
    "plt.legend()\n",
    "\n",
    "plt.xlabel('x')\n",
    "plt.ylabel('y')"
   ]
  },
  {
   "cell_type": "code",
   "execution_count": null,
   "metadata": {},
   "outputs": [],
   "source": [
    "# Sometimes you ar dealing with so much data that you can't see any correlation when plotting points\n",
    "\n",
    "x = np.random.normal(loc=20, scale=3, size=10000)\n",
    "y = (x + np.random.normal(size=10000, scale=3)) ** 2\n",
    "\n",
    "plt.plot(x, y, '.')"
   ]
  },
  {
   "cell_type": "code",
   "execution_count": null,
   "metadata": {},
   "outputs": [],
   "source": [
    "# You can make points transparent or smaller\n",
    "\n",
    "plt.plot(x, y, '.', alpha=0.5, markersize=1)"
   ]
  },
  {
   "cell_type": "code",
   "execution_count": null,
   "metadata": {},
   "outputs": [],
   "source": [
    "# But there are better ways to do this, like the hexbin function\n",
    "\n",
    "plt.hexbin(x, y, gridsize=50, mincnt=1)"
   ]
  },
  {
   "cell_type": "code",
   "execution_count": null,
   "metadata": {},
   "outputs": [],
   "source": [
    "# Or the kdeplot function of the seaborn package\n",
    "\n",
    "import seaborn as sns\n",
    "\n",
    "sns.kdeplot(x, y)"
   ]
  },
  {
   "cell_type": "markdown",
   "metadata": {},
   "source": [
    "# 4. Taking a look at S-PLUS data"
   ]
  },
  {
   "cell_type": "code",
   "execution_count": null,
   "metadata": {},
   "outputs": [],
   "source": [
    "# There are several ways to organize tables on python, I tend to use astropy tables\n",
    "from astropy.table import Table\n",
    "\n",
    "catalog = Table.read('splus_laplata.txt', format='ascii')\n",
    "\n",
    "catalog"
   ]
  },
  {
   "cell_type": "code",
   "execution_count": null,
   "metadata": {},
   "outputs": [],
   "source": [
    "# A  more popular option is Pandas\n",
    "\n",
    "import pandas as pd\n",
    "\n",
    "catalog = pd.read_table('splus_laplata.txt', delim_whitespace=True)\n",
    "\n",
    "catalog"
   ]
  },
  {
   "cell_type": "markdown",
   "metadata": {},
   "source": [
    "Is nice to have at least some proficiency with both Astropy tables and Pandas dataframes. Only learn pytables if these two don't do the trick.\n",
    "\n",
    "|                | Intuitive | Memory management | Integration with astronomy tools | General purpose |\n",
    "|----------------|-----------|-------------------|----------------------------------|-----------------|\n",
    "| Astropy Tables | 10        | 3                 | 10                               | 0               |\n",
    "| Pandas         | 9         | 7                 | 0                                | 10              |\n",
    "| PyTables       | 0         | 10         | 0                                | 10              |"
   ]
  },
  {
   "cell_type": "markdown",
   "metadata": {},
   "source": [
    "### Let's make a color-color diagram"
   ]
  },
  {
   "cell_type": "code",
   "execution_count": null,
   "metadata": {},
   "outputs": [],
   "source": [
    "plt.plot(catalog['uJAVA_auto']-catalog['r_auto'], catalog['g_auto']-catalog['i_auto'], '.')"
   ]
  },
  {
   "cell_type": "markdown",
   "metadata": {},
   "source": [
    "What just happened ???\n",
    "\n",
    "The S-PLUS magnitudes are reported as 99 or -99 when the object is not detected or not observed in a given band."
   ]
  },
  {
   "cell_type": "code",
   "execution_count": null,
   "metadata": {},
   "outputs": [],
   "source": [
    "no_missing_bands = catalog['nDet_auto'] == 12\n",
    "\n",
    "no_missing_bands.sum()/len(catalog)"
   ]
  },
  {
   "cell_type": "code",
   "execution_count": null,
   "metadata": {},
   "outputs": [],
   "source": [
    "catalog = catalog[no_missing_bands]\n",
    "\n",
    "plt.plot(catalog['uJAVA_auto']-catalog['r_auto'], catalog['g_auto']-catalog['i_auto'], '.', ms=0.5)\n",
    "\n",
    "plt.xlabel('u-r')\n",
    "plt.ylabel('g-i')"
   ]
  },
  {
   "cell_type": "code",
   "execution_count": null,
   "metadata": {},
   "outputs": [],
   "source": [
    "# Let's plot galaxies, stars and quasars separately:\n",
    "\n",
    "stars = catalog['class_2'] == 'STAR'\n",
    "galaxies = catalog['class_2'] == 'GALAXY'\n",
    "quasars = catalog['class_2'] == 'QSO'\n",
    "\n",
    "plt.plot(catalog['uJAVA_auto'][stars]-catalog['r_auto'][stars], catalog['g_auto'][stars]-catalog['i_auto'][stars],\n",
    "         '.', ms=2, color='green', label='Stars')\n",
    "plt.plot(catalog['uJAVA_auto'][galaxies]-catalog['r_auto'][galaxies], catalog['g_auto'][galaxies]-catalog['i_auto'][galaxies], \n",
    "         '.', ms=2, color='red', label='Galaxies')\n",
    "plt.plot(catalog['uJAVA_auto'][quasars]-catalog['r_auto'][quasars], catalog['g_auto'][quasars]-catalog['i_auto'][quasars],\n",
    "         '.', ms=2, color='blue', label='Quasars')\n",
    "\n",
    "plt.xlabel('u-r')\n",
    "plt.ylabel('g-i')\n",
    "\n",
    "plt.legend()"
   ]
  },
  {
   "cell_type": "code",
   "execution_count": null,
   "metadata": {},
   "outputs": [],
   "source": [
    "# What a mess! Let's plot contours!\n",
    "\n",
    "sns.kdeplot(catalog['uJAVA_auto'][stars]-catalog['r_auto'][stars], catalog['g_auto'][stars]-catalog['i_auto'][stars], \n",
    "            cmap='Greens', levels=5, label='Stars')\n",
    "sns.kdeplot(catalog['uJAVA_auto'][galaxies]-catalog['r_auto'][galaxies], catalog['g_auto'][galaxies]-catalog['i_auto'][galaxies], \n",
    "            cmap='Reds', levels=5, label='Galaxies')\n",
    "sns.kdeplot(catalog['uJAVA_auto'][quasars]-catalog['r_auto'][quasars], catalog['g_auto'][quasars]-catalog['i_auto'][quasars], \n",
    "            cmap='Blues', levels=5, label='Quasars')\n",
    "\n",
    "plt.legend()\n",
    "\n",
    "plt.xlim(-0.2, 4.3)\n",
    "plt.ylim(-0.2, 2)\n",
    "\n",
    "plt.xlabel('u-r')\n",
    "plt.ylabel('g-i')"
   ]
  }
 ],
 "metadata": {
  "colab": {
   "collapsed_sections": [],
   "name": "intro_to_python.ipynb",
   "provenance": [],
   "toc_visible": true
  },
  "kernelspec": {
   "display_name": "Python 3",
   "language": "python",
   "name": "python3"
  },
  "language_info": {
   "codemirror_mode": {
    "name": "ipython",
    "version": 3
   },
   "file_extension": ".py",
   "mimetype": "text/x-python",
   "name": "python",
   "nbconvert_exporter": "python",
   "pygments_lexer": "ipython3",
   "version": "3.8.1"
  }
 },
 "nbformat": 4,
 "nbformat_minor": 1
}
